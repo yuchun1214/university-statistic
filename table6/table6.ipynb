{
 "cells": [
  {
   "cell_type": "code",
   "execution_count": 1,
   "id": "excellent-switzerland",
   "metadata": {},
   "outputs": [],
   "source": [
    "import pandas as pd\n",
    "from difflib import get_close_matches\n",
    "import re\n",
    "import json\n",
    "import copy"
   ]
  },
  {
   "cell_type": "code",
   "execution_count": 99,
   "id": "ranking-program",
   "metadata": {},
   "outputs": [],
   "source": [
    "class University:\n",
    "    def __init__(self, name, eng_name, country):\n",
    "        self.name = name\n",
    "        self.eng_name = eng_name\n",
    "        self.country = country\n",
    "        self.arr = [0,0,0,0,0,0,0,0]\n",
    "        self.data_arr = [[], [], [], [], [], [], [], []]\n",
    "    \n",
    "    def add(self, data, flag_cum, flag_our):\n",
    "        flag = 0\n",
    "        flag += flag_cum * 4\n",
    "        flag += flag_our * 2\n",
    "        if(data.性別 == 'F'):\n",
    "            flag += 1\n",
    "        self.data_arr[flag].append(data)\n",
    "        self.arr[flag] += 1\n",
    "        \n",
    "    def output(self):\n",
    "        return [self.name, self.eng_name], self.country, self.arr"
   ]
  },
  {
   "cell_type": "code",
   "execution_count": 100,
   "id": "prescription-claim",
   "metadata": {},
   "outputs": [],
   "source": [
    "class Table6:\n",
    "    def __init__(self, configure):\n",
    "        self.data = {}\n",
    "        self.config = configure\n",
    "        pass\n",
    "    \n",
    "    def add(self, data, flag_cum, flag_our):\n",
    "        edu_name_ch = data.合作學校中文名稱\n",
    "        edu_name_eng = data.合作學校英文名稱\n",
    "        country = data.合作學校國別\n",
    "        if not edu_name_ch in self.data:\n",
    "            self.data[edu_name_ch] = University(edu_name_ch, edu_name_eng, country)\n",
    "        self.data[edu_name_ch].add(data, flag_cum, flag_our)\n",
    "    \n",
    "    def output(self):\n",
    "        values = []\n",
    "        for key, item in self.data.items():\n",
    "            print(item.arr)\n",
    "            self.config.values[11:13], self.config.values[10], self.config.values[14:22] = item.output()\n",
    "            values.append(copy.copy(self.config))\n",
    "        return values"
   ]
  },
  {
   "cell_type": "code",
   "execution_count": 101,
   "id": "expanded-turkish",
   "metadata": {},
   "outputs": [],
   "source": [
    "data1 = pd.read_excel(\"./11003期校庫資料(給校資組).xlsx\", sheet_name=\"學六來校新增\")\n",
    "data2 = pd.read_excel(\"./11003期校庫資料(給校資組).xlsx\", sheet_name=\"學六赴外新增\")\n",
    "cum_data1 = pd.read_excel(\"./11003期校庫資料(給校資組).xlsx\", sheet_name=\"(學6)來校雙聯學位生(修讀 30 畢業79)\")\n",
    "cum_data2 = pd.read_excel(\"./11003期校庫資料(給校資組).xlsx\", sheet_name=\"(學6)赴外雙聯學位生(修讀 28 畢業188)\")\n",
    "config = pd.read_excel(\"./第11003期_學6.雙聯學制學生人數統計表(3月、10月填報).xls\")"
   ]
  },
  {
   "cell_type": "code",
   "execution_count": 102,
   "id": "adjusted-occasion",
   "metadata": {},
   "outputs": [],
   "source": [
    "phd_depts = list(set(config[config[\"學制班別\"] == \"博士班\"].單位))\n",
    "master_depts = list(set(config[config[\"學制班別\"] == \"碩士班\"].單位))\n",
    "master_depts2 = list(set(config[config[\"學制班別\"] == \"碩士在職專班\"].單位))\n",
    "undergraduate_depts = list(set(config[config[\"學制班別\"] == \"學士班\"].單位))\n",
    "\n",
    "EDU_SYS_MAPPING = {\n",
    "    \"博士班\" : phd_depts,\n",
    "    \"碩士班\" : master_depts,\n",
    "    \"碩士在職專班\" : master_depts2,\n",
    "    \"學士班\" : undergraduate_depts\n",
    "}"
   ]
  },
  {
   "cell_type": "code",
   "execution_count": 117,
   "id": "passing-heaven",
   "metadata": {},
   "outputs": [],
   "source": [
    "# Create data structure\n",
    "objs = {}\n",
    "for i in range(len(config.values)):\n",
    "    sys = config.loc[i].學制班別\n",
    "    dept = config.loc[i].單位\n",
    "    \n",
    "    if(not sys in objs):\n",
    "        objs[sys] = {}\n",
    "    \n",
    "    \n",
    "    if(not dept in objs[sys]):\n",
    "        objs[sys][dept] = Table6(config.loc[i])"
   ]
  },
  {
   "cell_type": "code",
   "execution_count": 118,
   "id": "rotary-donna",
   "metadata": {},
   "outputs": [],
   "source": [
    "def mapping(dataframe, maps):\n",
    "    for i in range(len(dataframe.values)):\n",
    "        sys = dataframe.loc[i].學制班別\n",
    "        dept = dataframe.loc[i].系所\n",
    "        if(re.search(r'班', sys) == None):\n",
    "            sys += '班'\n",
    "        \n",
    "        try:\n",
    "            dept2 = get_close_matches(dept, EDU_SYS_MAPPING[sys])\n",
    "            maps[dept] = dept2[0]\n",
    "        except IndexError as e:\n",
    "            print(\"Error dept name : \", dept)\n",
    "    return maps"
   ]
  },
  {
   "cell_type": "code",
   "execution_count": 119,
   "id": "valuable-appreciation",
   "metadata": {},
   "outputs": [],
   "source": [
    "def classify_data(objs, dataframe,maps, flag_cum, flag_their):\n",
    "    # classify data\n",
    "    for i in range(len(dataframe.values)):\n",
    "        sys = dataframe.loc[i].學制班別\n",
    "        dept = dataframe.loc[i].系所\n",
    "        if(re.search(r'班', sys) == None):\n",
    "            sys += '班'\n",
    "\n",
    "        dept = maps[dept]\n",
    "        objs[sys][dept].add(dataframe.loc[i], flag_cum, flag_their)"
   ]
  },
  {
   "cell_type": "code",
   "execution_count": 69,
   "id": "boring-packet",
   "metadata": {},
   "outputs": [
    {
     "name": "stdout",
     "output_type": "stream",
     "text": [
      "Error dept name :  數學系應用數學博士班\n",
      "Error dept name :  數學系應用數學博士班\n"
     ]
    }
   ],
   "source": [
    "maps = {}\n",
    "maps = mapping(data1, maps)\n",
    "maps = mapping(data2, maps)\n",
    "maps = mapping(cum_data1, maps)\n",
    "maps = mapping(cum_data2, maps)\n",
    "with open(\"dept_maps.json\", 'w') as file:\n",
    "    text = json.dumps(maps, indent=4, ensure_ascii=False)\n",
    "    file.write(text)"
   ]
  },
  {
   "cell_type": "code",
   "execution_count": 120,
   "id": "resistant-portfolio",
   "metadata": {},
   "outputs": [],
   "source": [
    "with open(\"dept_maps.json\", \"r\") as file:\n",
    "    maps = json.load(file)\n",
    "classify_data(objs, data1, maps, flag_cum=0, flag_their=1) # 學六來校新增\n",
    "classify_data(objs, data2,maps, 0, 0) # 學六赴外新增\n",
    "classify_data(objs, cum_data1, maps, flag_cum=1, flag_their=1) # (學6)來校 累積\n",
    "classify_data(objs, cum_data2, maps, flag_cum=1, flag_their=0) # (學6)赴外 累積"
   ]
  },
  {
   "cell_type": "code",
   "execution_count": 121,
   "id": "waiting-munich",
   "metadata": {},
   "outputs": [
    {
     "name": "stdout",
     "output_type": "stream",
     "text": [
      "[0, 0, 0, 0, 1, 0, 0, 0]\n",
      "[1, 0, 0, 0, 0, 0, 0, 0]\n",
      "[0, 0, 0, 0, 1, 0, 0, 0]\n",
      "[0, 0, 0, 0, 1, 0, 0, 0]\n",
      "[0, 0, 0, 0, 1, 0, 0, 0]\n",
      "[0, 0, 0, 0, 1, 0, 0, 0]\n",
      "[0, 0, 0, 0, 1, 0, 0, 0]\n",
      "[0, 0, 1, 1, 0, 0, 15, 2]\n",
      "[0, 0, 1, 0, 0, 0, 0, 0]\n",
      "[0, 0, 0, 0, 0, 0, 1, 0]\n",
      "[0, 0, 0, 2, 0, 0, 0, 1]\n",
      "[0, 0, 0, 0, 20, 1, 0, 1]\n",
      "[0, 0, 0, 1, 0, 0, 0, 0]\n",
      "[0, 0, 0, 0, 0, 0, 1, 0]\n",
      "[0, 0, 0, 0, 0, 0, 1, 0]\n",
      "[0, 0, 0, 0, 1, 0, 0, 0]\n",
      "[0, 0, 0, 0, 2, 3, 0, 0]\n",
      "[0, 0, 0, 0, 2, 2, 0, 0]\n",
      "[0, 0, 0, 0, 2, 2, 0, 0]\n",
      "[0, 0, 0, 0, 1, 0, 0, 0]\n",
      "[0, 0, 0, 0, 0, 1, 0, 0]\n",
      "[0, 0, 0, 0, 1, 0, 0, 0]\n",
      "[0, 0, 0, 0, 1, 0, 0, 0]\n",
      "[1, 0, 0, 0, 5, 0, 2, 1]\n",
      "[0, 0, 0, 1, 0, 0, 0, 0]\n",
      "[0, 0, 0, 1, 0, 0, 0, 0]\n",
      "[0, 0, 0, 0, 1, 0, 0, 0]\n",
      "[0, 0, 0, 0, 0, 1, 0, 0]\n",
      "[0, 0, 0, 0, 1, 0, 0, 0]\n",
      "[0, 0, 0, 0, 1, 0, 0, 0]\n",
      "[0, 0, 0, 0, 0, 1, 0, 0]\n",
      "[0, 0, 0, 0, 2, 4, 0, 0]\n",
      "[0, 0, 0, 0, 1, 0, 0, 0]\n",
      "[0, 0, 0, 0, 1, 1, 0, 0]\n",
      "[0, 0, 0, 0, 1, 1, 0, 0]\n",
      "[1, 0, 0, 0, 1, 1, 0, 0]\n",
      "[0, 0, 0, 0, 2, 6, 0, 0]\n",
      "[0, 0, 0, 0, 0, 2, 0, 0]\n",
      "[0, 0, 0, 0, 3, 1, 0, 0]\n",
      "[0, 1, 0, 0, 1, 1, 0, 0]\n",
      "[1, 0, 0, 0, 0, 2, 0, 0]\n",
      "[0, 0, 0, 0, 6, 6, 0, 0]\n",
      "[0, 0, 0, 0, 0, 1, 0, 0]\n",
      "[0, 0, 0, 0, 0, 1, 0, 0]\n",
      "[0, 0, 0, 0, 0, 1, 0, 0]\n",
      "[0, 0, 0, 0, 1, 4, 0, 0]\n",
      "[0, 0, 0, 0, 0, 2, 0, 0]\n",
      "[0, 0, 0, 0, 1, 4, 0, 0]\n",
      "[0, 0, 0, 0, 3, 4, 0, 0]\n",
      "[0, 0, 0, 0, 0, 1, 0, 0]\n",
      "[0, 0, 0, 0, 0, 2, 0, 0]\n",
      "[0, 0, 0, 0, 0, 1, 0, 0]\n",
      "[0, 0, 1, 0, 0, 0, 3, 1]\n",
      "[0, 0, 0, 0, 0, 0, 1, 0]\n",
      "[0, 0, 0, 0, 0, 0, 1, 0]\n",
      "[0, 0, 0, 0, 1, 0, 0, 0]\n",
      "[0, 0, 0, 0, 1, 0, 0, 0]\n",
      "[1, 0, 0, 0, 0, 4, 0, 0]\n",
      "[0, 0, 0, 0, 9, 8, 0, 0]\n",
      "[0, 0, 0, 0, 1, 0, 0, 0]\n",
      "[0, 0, 0, 0, 0, 1, 0, 0]\n",
      "[0, 0, 0, 0, 1, 2, 0, 0]\n",
      "[0, 0, 0, 0, 0, 2, 0, 0]\n",
      "[0, 0, 0, 1, 0, 0, 1, 0]\n",
      "[0, 0, 0, 0, 1, 0, 0, 0]\n",
      "[1, 0, 0, 0, 0, 0, 0, 0]\n",
      "[0, 0, 0, 0, 1, 1, 0, 0]\n",
      "[0, 0, 0, 0, 0, 1, 0, 0]\n",
      "[0, 0, 0, 0, 0, 1, 0, 0]\n",
      "[0, 0, 0, 0, 1, 0, 0, 0]\n",
      "[0, 0, 0, 0, 2, 3, 0, 0]\n",
      "[0, 0, 0, 0, 0, 2, 0, 0]\n",
      "[0, 0, 0, 0, 1, 0, 0, 0]\n",
      "[0, 0, 2, 4, 0, 0, 0, 0]\n",
      "[0, 0, 1, 2, 0, 0, 0, 0]\n",
      "[0, 0, 4, 0, 0, 0, 0, 0]\n",
      "[0, 0, 0, 1, 0, 0, 0, 0]\n",
      "[0, 0, 1, 1, 0, 0, 0, 0]\n",
      "[1, 0, 0, 0, 2, 2, 0, 0]\n",
      "[1, 0, 0, 0, 0, 0, 0, 0]\n",
      "[0, 0, 0, 0, 1, 1, 0, 0]\n",
      "[0, 0, 0, 0, 5, 2, 0, 0]\n",
      "[0, 0, 0, 0, 0, 1, 0, 0]\n",
      "[0, 0, 0, 0, 1, 0, 0, 0]\n",
      "[0, 0, 0, 0, 0, 1, 0, 0]\n",
      "[4, 2, 0, 0, 0, 0, 0, 0]\n",
      "[0, 0, 1, 0, 0, 0, 3, 8]\n",
      "[0, 0, 0, 1, 0, 0, 1, 9]\n",
      "[0, 0, 0, 2, 0, 0, 0, 1]\n",
      "[0, 0, 0, 0, 0, 0, 3, 4]\n",
      "[0, 0, 0, 0, 0, 0, 0, 1]\n",
      "[0, 0, 0, 0, 0, 0, 0, 1]\n",
      "[0, 0, 0, 0, 0, 0, 0, 4]\n",
      "[0, 0, 0, 0, 1, 0, 0, 0]\n",
      "[0, 0, 0, 0, 1, 0, 0, 0]\n",
      "[0, 0, 0, 0, 0, 0, 1, 0]\n",
      "[6, 1, 0, 0, 0, 0, 0, 0]\n",
      "[0, 0, 0, 0, 0, 0, 3, 2]\n",
      "[0, 0, 0, 0, 0, 0, 4, 1]\n",
      "[4, 2, 0, 0, 0, 0, 0, 0]\n",
      "[0, 0, 0, 0, 0, 0, 0, 1]\n",
      "[0, 0, 0, 0, 0, 1, 0, 0]\n",
      "[0, 0, 0, 0, 0, 1, 0, 0]\n"
     ]
    }
   ],
   "source": [
    "# output\n",
    "result = []\n",
    "resultDf = pd.DataFrame()\n",
    "\n",
    "for key in objs:\n",
    "    for key2 in objs[key]:\n",
    "        out = objs[key][key2].output()\n",
    "        if(len(out) != 0):\n",
    "            result.append(out)\n",
    "            \n",
    "resultDf = []\n",
    "for i in range(len(result)):\n",
    "    for j in range(len(result[i])):\n",
    "        resultDf.append(result[i][j])\n",
    "\n",
    "resultDf = pd.DataFrame(resultDf)\n",
    "resultDf.to_excel(\"output.xlsx\")"
   ]
  },
  {
   "cell_type": "code",
   "execution_count": 98,
   "id": "occupied-equilibrium",
   "metadata": {},
   "outputs": [
    {
     "data": {
      "text/plain": [
       "5"
      ]
     },
     "execution_count": 98,
     "metadata": {},
     "output_type": "execute_result"
    }
   ],
   "source": [
    "len(objs[\"碩士班\"][\"電機工程學系\"].data[\"布蘭登堡科技大學\"].data_arr[4])"
   ]
  },
  {
   "cell_type": "code",
   "execution_count": 111,
   "id": "unlimited-bikini",
   "metadata": {},
   "outputs": [
    {
     "data": {
      "text/plain": [
       "[編號                                                                 20\n",
       " 學院                                                               管理學院\n",
       " 系所                                                    國際經營管理研究所(IMBA)\n",
       " 學制班別                                                              碩士班\n",
       " 學號                                                          RA6097175\n",
       " 姓名                                                                秦艾羅\n",
       " 英文姓名                                         Regruto Jean-Loup Axel  \n",
       " 性別                                                                  M\n",
       " 國籍                                                                 法國\n",
       " 合作學校國別                                                             法國\n",
       " 合作學校中文名稱                                                      諾曼第管理學院\n",
       " 合作學校英文名稱                             Ecole de Management de Normandie\n",
       " 入學學年                                                            10902\n",
       " 畢業學年                                                              NaN\n",
       " 是否已畢業                                                               否\n",
       " 來校期間 (西元)  ex 2012/2/2-2013/12/31                  2020/3/2-2021/6/31\n",
       " Name: 19, dtype: object]"
      ]
     },
     "execution_count": 111,
     "metadata": {},
     "output_type": "execute_result"
    }
   ],
   "source": [
    "objs[\"碩士班\"][\"國際經營管理研究所(IMBA)\"].data[\"諾曼第管理學院\"].data_arr[0]"
   ]
  },
  {
   "cell_type": "code",
   "execution_count": null,
   "id": "australian-adobe",
   "metadata": {},
   "outputs": [],
   "source": []
  }
 ],
 "metadata": {
  "kernelspec": {
   "display_name": "Python 3",
   "language": "python",
   "name": "python3"
  },
  "language_info": {
   "codemirror_mode": {
    "name": "ipython",
    "version": 3
   },
   "file_extension": ".py",
   "mimetype": "text/x-python",
   "name": "python",
   "nbconvert_exporter": "python",
   "pygments_lexer": "ipython3",
   "version": "3.8.2"
  }
 },
 "nbformat": 4,
 "nbformat_minor": 5
}
