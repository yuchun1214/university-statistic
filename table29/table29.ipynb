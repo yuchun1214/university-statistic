{
 "cells": [
  {
   "cell_type": "code",
   "execution_count": 42,
   "metadata": {},
   "outputs": [],
   "source": [
    "import pandas as pd\n",
    "import numpy as np\n",
    "import json\n",
    "from difflib import get_close_matches"
   ]
  },
  {
   "cell_type": "code",
   "execution_count": 137,
   "metadata": {},
   "outputs": [],
   "source": [
    "EDU_SYS_CONVERTER = {\n",
    "    \"博士\" : \"博士班\",\n",
    "    \"碩士\" : \"碩士班\",\n",
    "    \"碩專\" : \"碩士在職專班\",\n",
    "    \"大學\" : \"學士班\"\n",
    "}\n",
    "\n",
    "class table29(object):\n",
    "    def __init__(self, configure):\n",
    "        self.configure = configure\n",
    "        self.data = []\n",
    "        self.number = 0\n",
    "    def append(self, value):\n",
    "        self.data.append(value)\n",
    "        self.number += value[\"student_sum\"]\n",
    "    \n",
    "    def outputMainTable(self):\n",
    "        self.configure[\"曾修讀程式設計課程人數\"] = self.number\n",
    "        return self.configure\n",
    "    \n",
    "def constructureDataStructure(config):\n",
    "    ds = {}\n",
    "    depts_names = list(set(config.單位))\n",
    "    for dept_name in depts_names:\n",
    "        ndfs = config[config[\"單位\"] == dept_name]\n",
    "        ds[dept_name] = {}\n",
    "        eduSyses = list(set(ndfs.學制班別))\n",
    "        for eduSys in eduSyses:\n",
    "            ds[dept_name][eduSys] = table29(ndfs.loc[ndfs[\"學制班別\"] == eduSys])\n",
    "            \n",
    "    return ds\n",
    "\n",
    "def classify(dept, dept_lists):\n",
    "    mostLikely = get_close_matches(dept, dept_lists)\n",
    "    return mostLikely[0]"
   ]
  },
  {
   "cell_type": "markdown",
   "metadata": {},
   "source": [
    "**Read Config data**"
   ]
  },
  {
   "cell_type": "code",
   "execution_count": 151,
   "metadata": {},
   "outputs": [],
   "source": [
    "config = pd.read_excel(\"./11003_29 修讀程式設計課程情形.xls\")\n",
    "configDS = constructureDataStructure(config)"
   ]
  },
  {
   "cell_type": "code",
   "execution_count": 136,
   "metadata": {},
   "outputs": [],
   "source": [
    "phd_depts = list(set(config[config[\"學制班別\"] == \"博士班\"].單位))\n",
    "master_depts = list(set(config[config[\"學制班別\"] == \"碩士班\"].單位))\n",
    "master_depts2 = list(set(config[config[\"學制班別\"] == \"碩士在職專班\"].單位))\n",
    "undergraduate_depts = list(set(config[config[\"學制班別\"] == \"學士班\"].單位))\n",
    "\n",
    "EDU_SYS_MAPPING = {\n",
    "    \"博士\" : phd_depts,\n",
    "    \"碩士\" : master_depts,\n",
    "    \"碩專\" : master_depts2,\n",
    "    \"大學\" : undergraduate_depts\n",
    "}"
   ]
  },
  {
   "cell_type": "code",
   "execution_count": 140,
   "metadata": {},
   "outputs": [],
   "source": [
    "data = pd.read_excel(\"./學29﹍1090319.xls\")\n",
    "data[\"tmp_dept_name\"] = np.full(data.shape[0], np.nan)\n",
    "data[\"tmp_dept_name\"] = data[\"dept_name\"].str.replace(r'碩、\\w+', '')\n",
    "data[\"tmp_dept_name\"] = data[\"tmp_dept_name\"].str.replace(r'應用數學', '')"
   ]
  },
  {
   "cell_type": "code",
   "execution_count": 143,
   "metadata": {},
   "outputs": [],
   "source": [
    "# try to open old dept_map.json data. \n",
    "# If not found, creat it!!!. But DO NOT FORGET TO CHECK THE OUTPUT DATA\n",
    "try: \n",
    "    with open(\"./dept_maps.json\", \"r\", encoding='utf') as file:\n",
    "        txt = file.read()\n",
    "        dept_maps = json.loads(txt)\n",
    "except:\n",
    "    dept_maps = {}\n",
    "    for i in range(len(data.values)):\n",
    "        dept_name = data.at[i, \"tmp_dept_name\"]\n",
    "        try:\n",
    "            data.at[i, \"tmp_dept_name\"] = classify(data.at[i, \"tmp_dept_name\"] , EDU_SYS_MAPPING[data.at[i, \"acad\"]])\n",
    "        except IndexError:\n",
    "            print(\"ERROR occure when classifing \",dept_name)\n",
    "            raise IndexError\n",
    "    #     print(dept_name, \"->\", data.at[i, \"tmp_dept_name\"])\n",
    "        dept_maps[data[\"dept_name\"][i] + \"_\" + data.at[i, \"acad\"]] = data[\"tmp_dept_name\"][i]\n",
    "\n",
    "    with open(\"dept_maps.json\", \"w\") as file:\n",
    "        file.write(json.dumps(dept_maps, indent=4, ensure_ascii=False))"
   ]
  },
  {
   "cell_type": "code",
   "execution_count": 145,
   "metadata": {},
   "outputs": [],
   "source": [
    "for i in range(len(data.values)):\n",
    "    dept_name = dept_maps[data.at[i, \"dept_name\"] + \"_\" + data.at[i, \"acad\"]]\n",
    "    eduSys = EDU_SYS_CONVERTER[data.at[i, \"acad\"]]\n",
    "    try:\n",
    "        configDS[dept_name][eduSys].append(data.loc[i])\n",
    "    except:\n",
    "        print(i, data.at[i, \"dept_name\"], \" -> \", dept_name, \"acad = \", eduSys)\n",
    "        raise KeyError"
   ]
  },
  {
   "cell_type": "code",
   "execution_count": 146,
   "metadata": {},
   "outputs": [],
   "source": [
    "ndata = []\n",
    "for i in configDS:\n",
    "    for j in configDS[i]:\n",
    "        ndata.append(configDS[i][j].outputMainTable())\n",
    "ndataArray = np.array(ndata)"
   ]
  },
  {
   "cell_type": "code",
   "execution_count": 148,
   "metadata": {},
   "outputs": [],
   "source": [
    "temp = []\n",
    "for i in ndata:\n",
    "    temp.append(i.values[0])"
   ]
  },
  {
   "cell_type": "code",
   "execution_count": 149,
   "metadata": {},
   "outputs": [],
   "source": [
    "result = pd.DataFrame(temp, columns=config.columns)"
   ]
  },
  {
   "cell_type": "code",
   "execution_count": 150,
   "metadata": {},
   "outputs": [],
   "source": [
    "result.to_excel(\"output29.xlsx\")"
   ]
  },
  {
   "cell_type": "code",
   "execution_count": null,
   "metadata": {},
   "outputs": [],
   "source": []
  }
 ],
 "metadata": {
  "kernelspec": {
   "display_name": "Python 3",
   "language": "python",
   "name": "python3"
  },
  "language_info": {
   "codemirror_mode": {
    "name": "ipython",
    "version": 3
   },
   "file_extension": ".py",
   "mimetype": "text/x-python",
   "name": "python",
   "nbconvert_exporter": "python",
   "pygments_lexer": "ipython3",
   "version": "3.8.2"
  }
 },
 "nbformat": 4,
 "nbformat_minor": 4
}
